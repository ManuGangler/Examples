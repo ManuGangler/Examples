{
 "cells": [
  {
   "cell_type": "markdown",
   "id": "56abebfc",
   "metadata": {},
   "source": [
    "# Purpose:\n",
    "\n",
    "Notebook to show how to use feature importance and signatures within Open Supernova Catalog\n",
    "\n",
    "It uses the coniferest package https://github.com/snad-space/coniferest\n",
    "\n",
    "Data available from https://github.com/snad-space/snad\n",
    "\n",
    "See https://arxiv.org/abs/1905.11516 for further detailed information about the sample and identified anomalies within\n"
   ]
  },
  {
   "cell_type": "markdown",
   "id": "0549f946",
   "metadata": {},
   "source": [
    "# 0) Environment"
   ]
  },
  {
   "cell_type": "markdown",
   "id": "7059ca7f",
   "metadata": {},
   "source": [
    "Please modify the *prefix* variable in order to point to your data"
   ]
  },
  {
   "cell_type": "code",
   "execution_count": null,
   "id": "5c2c9909",
   "metadata": {},
   "outputs": [],
   "source": [
    "prefix='.'\n",
    "%ls $prefix/snad-space/snad"
   ]
  },
  {
   "cell_type": "markdown",
   "id": "5dbb8fd4",
   "metadata": {},
   "source": [
    "# 1) Preparation & loading data"
   ]
  },
  {
   "cell_type": "code",
   "execution_count": null,
   "id": "e47e2775",
   "metadata": {},
   "outputs": [],
   "source": [
    "import numpy as np\n",
    "from matplotlib import pyplot as plt\n",
    "import os\n",
    "import pandas as pd"
   ]
  },
  {
   "cell_type": "code",
   "execution_count": null,
   "id": "cc540d09",
   "metadata": {},
   "outputs": [],
   "source": [
    "# specific imports\n",
    "from coniferest.pineforest import PineForest\n",
    "from coniferest.pariou import comp_signature, n_expected_visits"
   ]
  },
  {
   "cell_type": "code",
   "execution_count": null,
   "id": "84d55160",
   "metadata": {},
   "outputs": [],
   "source": [
    "# getting the data\n",
    "data_file_1=os.path.join(prefix,'snad-space/snad/data/extrapol_-20.0_100.0_B,R,I.csv')\n",
    "data_file_2=os.path.join(prefix,'snad-space/snad/data/extrapol_-20.0_100.0_g,r,i.csv')\n",
    "data_file_3=os.path.join(prefix,'snad-space/snad/data/extrapol_-20.0_100.0_g_pr,r_pr,i_pr.csv')\n",
    "\n",
    "df_1=pd.read_csv(data_file_1)\n",
    "df_2=pd.read_csv(data_file_2)\n",
    "df_3=pd.read_csv(data_file_3)"
   ]
  },
  {
   "cell_type": "code",
   "execution_count": null,
   "id": "1df6c26e",
   "metadata": {},
   "outputs": [],
   "source": [
    "# for exploration : all keys are identical excapt the original band names (columns 1 to 3)\n",
    "# [z for z in zip(df_1.keys(),df_2.keys(),df_3.keys())]"
   ]
  },
  {
   "cell_type": "code",
   "execution_count": null,
   "id": "97dd600f",
   "metadata": {},
   "outputs": [],
   "source": [
    "# Build the data array\n",
    "mask = df_1.columns.str.contains('^[gri][+-]') # all masks identical\n",
    "data_1=df_1.loc[:,mask].to_numpy()\n",
    "data_2=df_2.loc[:,mask].to_numpy()\n",
    "data_3=df_3.loc[:,mask].to_numpy()\n",
    "data=np.concatenate((data_1,data_2,data_3)).astype('float32')"
   ]
  },
  {
   "cell_type": "code",
   "execution_count": null,
   "id": "138b9a9a",
   "metadata": {},
   "outputs": [],
   "source": [
    "# data still have to be normalized\n",
    "data=np.multiply(data,1/np.max(data,axis=1)[:,np.newaxis])\n",
    "# note that this deviates from the paper, which adds the total flux as an additional feature"
   ]
  },
  {
   "cell_type": "code",
   "execution_count": null,
   "id": "118b3fea",
   "metadata": {},
   "outputs": [],
   "source": [
    "# for reference, record object names\n",
    "names=np.concatenate((df_1.Name.to_numpy(), df_2.Name.to_numpy(),df_3.Name.to_numpy()))"
   ]
  },
  {
   "cell_type": "code",
   "execution_count": null,
   "id": "ecc0b8e5",
   "metadata": {},
   "outputs": [],
   "source": [
    "# basic information about the sample\n",
    "np.shape(data)"
   ]
  },
  {
   "cell_type": "markdown",
   "id": "12b7d5c4",
   "metadata": {},
   "source": [
    "## Propose a visualization"
   ]
  },
  {
   "cell_type": "code",
   "execution_count": null,
   "id": "f5d3ac59",
   "metadata": {},
   "outputs": [],
   "source": [
    "# colormaps\n",
    "\n",
    "from matplotlib.colors import ListedColormap\n",
    "N = 256\n",
    "vals_g = np.ones((N, 4))\n",
    "vals_r = np.ones((N, 4))\n",
    "vals_y = np.ones((N, 4))\n",
    "# g\n",
    "vals_g[:, 0] = np.linspace(0/256, 231/256, N)\n",
    "vals_g[:, 1] = np.linspace(64/256, 256/256, N)\n",
    "vals_g[:, 2] = np.linspace(0/256, 231/256, N)\n",
    "cmp_g = ListedColormap(vals_g)\n",
    "# r\n",
    "vals_r[:, 0] = np.linspace(128/256, 256/256, N)\n",
    "vals_r[:, 1] = np.linspace(0/256, 231/256, N)\n",
    "vals_r[:, 2] = np.linspace(0/256, 231/256, N)\n",
    "cmp_r = ListedColormap(vals_r)\n",
    "# y\n",
    "vals_y[:, 0] = np.linspace(178/256, 244/256, N)\n",
    "vals_y[:, 1] = np.linspace(160/256, 244/256, N)\n",
    "vals_y[:, 2] = np.linspace(0/256, 231/256, N)\n",
    "cmp_y = ListedColormap(vals_y)\n"
   ]
  },
  {
   "cell_type": "code",
   "execution_count": null,
   "id": "dbcc1017",
   "metadata": {},
   "outputs": [],
   "source": [
    "# Main plotting method\n",
    "def plot_data_n(data,n,color=None,ylabel=\"relative flux\",title=None):\n",
    "    \n",
    "    _,length=np.shape(data)\n",
    "\n",
    "    time=np.arange(-20,-20+length//3)\n",
    "\n",
    "    if color is not None:\n",
    "\n",
    "        plt.scatter(time,data[n,:length//3],marker='.',cmap=cmp_g,c=color[:length//3])\n",
    "        plt.scatter(time,data[n,length//3:2*length//3],marker='.',cmap=cmp_r,c=color[length//3:2*length//3])\n",
    "        plt.scatter(time,data[n,2*length//3:],marker='.',cmap=cmp_y,c=color[2*length//3:])\n",
    "        \n",
    "    else:\n",
    "        plt.scatter(time,data[n,:length//3],cmap=cmp_g,c=np.zeros(length//3),vmax=1,s=14)\n",
    "        plt.scatter(time,data[n,length//3:2*length//3],marker='^',cmap=cmp_r,c=np.zeros(length//3),vmax=1,s=12)\n",
    "        plt.scatter(time,data[n,2*length//3:],marker='*',cmap=cmp_y,c=np.zeros(length//3),vmax=1,s=8)\n",
    "\n",
    "    if title is None:\n",
    "        plt.title(names[n])\n",
    "    else:\n",
    "        plt.title(title)\n",
    "    plt.ylabel(ylabel)\n",
    "    plt.xlabel(\"time (days)\")"
   ]
  },
  {
   "cell_type": "code",
   "execution_count": null,
   "id": "af67cd07",
   "metadata": {},
   "outputs": [],
   "source": [
    "# to plot averages and std of data\n",
    "def plot_envelope(data):\n",
    "    mean=np.mean(data,axis=0)\n",
    "    std=np.std(data,axis=0)\n",
    "    _,length=np.shape(data)\n",
    "    time=np.arange(-20,-20+length//3)\n",
    "    plt.plot(time,mean[:length//3],color=cmp_g(0.75))\n",
    "    plt.fill_between(time,(mean-std)[:length//3],(mean+std)[:length//3],color=cmp_g(0.0),alpha=0.05)\n",
    "    plt.plot(time,mean[length//3:2*length//3],color=cmp_r(0.75))\n",
    "    plt.fill_between(time,(mean-std)[length//3:2*length//3],(mean+std)[length//3:2*length//3],color=cmp_r(0.0),alpha=0.05)\n",
    "    plt.plot(time,mean[2*length//3:],color=cmp_y(0.75))\n",
    "    plt.fill_between(time,(mean-std)[2*length//3:],(mean+std)[2*length//3:],color=cmp_y(0.0),alpha=0.05)"
   ]
  },
  {
   "cell_type": "code",
   "execution_count": null,
   "id": "7e6f28c6",
   "metadata": {},
   "outputs": [],
   "source": [
    "# One example\n",
    "plot_data_n(data,13)\n",
    "# to plot the average, uncomment this line\n",
    "#plot_envelope(data)"
   ]
  },
  {
   "cell_type": "markdown",
   "id": "663ef46f",
   "metadata": {},
   "source": [
    "# 2) Build and analyze Isolation Forest"
   ]
  },
  {
   "cell_type": "code",
   "execution_count": null,
   "id": "fce77cee",
   "metadata": {},
   "outputs": [],
   "source": [
    "print(\"Number of trees of depth 10 (trained with 1024 elements) needed to have 1 visit in average:\",1/n_expected_visits(data))"
   ]
  },
  {
   "cell_type": "code",
   "execution_count": null,
   "id": "598c9b8f",
   "metadata": {},
   "outputs": [],
   "source": [
    "# fit and get scores (same code for PineForest and IsolationForest, but PineForest is faster)\n",
    "pineforest = PineForest(n_trees=3000,n_subsamples=1024, weight_ratio=1)\n",
    "pineforest.fit(data)\n",
    "scores_pf = pineforest.score_samples(data)"
   ]
  },
  {
   "cell_type": "code",
   "execution_count": null,
   "id": "4c47cbf2",
   "metadata": {},
   "outputs": [],
   "source": [
    "# score distribution\n",
    "plt.hist(scores_pf,bins='fd');\n",
    "plt.yscale('log')\n",
    "plt.xlabel('score')\n",
    "plt.ylabel('count');"
   ]
  },
  {
   "cell_type": "markdown",
   "id": "b7faad00",
   "metadata": {},
   "source": [
    "## Plot the most outliers and their signatures"
   ]
  },
  {
   "cell_type": "code",
   "execution_count": null,
   "id": "3dee9477",
   "metadata": {},
   "outputs": [],
   "source": [
    "maxiter=20\n",
    "deltas=comp_signature(pineforest,data,np.argsort(scores_pf)[:maxiter])\n",
    "for i in range (maxiter):\n",
    "    plt.figure()\n",
    "    plt.subplot(211)\n",
    "    plot_data_n(data,np.argsort(scores_pf)[i],deltas[i])\n",
    "    plot_envelope(data)\n",
    "    plt.subplot(212)\n",
    "    plot_data_n(deltas,i,ylabel='Signature')"
   ]
  },
  {
   "cell_type": "markdown",
   "id": "7c284991",
   "metadata": {},
   "source": [
    "## Plot the most normals and their signatures"
   ]
  },
  {
   "cell_type": "code",
   "execution_count": null,
   "id": "08e5e6ce",
   "metadata": {},
   "outputs": [],
   "source": [
    "deltas=comp_signature(pineforest,data,np.argsort(scores_pf)[-maxiter:])\n",
    "for i in range (maxiter):\n",
    "    plt.figure()\n",
    "    plt.subplot(211)\n",
    "    plot_data_n(data,np.argsort(scores_pf)[-maxiter:][i],deltas[i])\n",
    "    plot_envelope(data)\n",
    "    plt.subplot(212)\n",
    "    plot_data_n(deltas,i,ylabel='Signature')"
   ]
  },
  {
   "cell_type": "markdown",
   "id": "c5f271e0",
   "metadata": {},
   "source": [
    "## Plot the average signatures per identified anomalies"
   ]
  },
  {
   "cell_type": "code",
   "execution_count": null,
   "id": "3c28e5a2",
   "metadata": {},
   "outputs": [],
   "source": [
    "slsn=[\"SDSS-II SN 17789\", \"SN2015bn\", \"PTF10aagc\", \"SN2213-1745\"]\n",
    "pecIa=[\"SN2016bln\",\"PS15cfn\", \"SNLS-03D1cm\",\"SN2002bj\",\"SN2013cv\"]\n",
    "unusualII=[\"SN2013ej\", \"SN2016ija\"]\n",
    "agn=[\"SN2006kg\"]\n",
    "microlens=[\"Gaia16aye\"]\n",
    "stars=['SDSS-II SN 5314', 'SDSS-II SN 14170', 'SDSS-II SN 15565', 'SDSS-II SN 13725', 'SDSS-II SN 13741',\n",
    "       'SDSS-II SN 19699', 'SDSS-II SN 18266', 'SDSS-II SN 4226', 'SDSS-II SN 2809', 'SDSS-II SN 6992']\n",
    "qso=[\"SDSS-II SN 1706\", \"SDSS-II SN 17756\", \"SDSS-II SN 17339\", \"SDSS-II SN 17509\", \"SDSS-II SN 4652\",\n",
    "     \"SDSS-II SN 19395\"]"
   ]
  },
  {
   "cell_type": "code",
   "execution_count": null,
   "id": "5370882c",
   "metadata": {},
   "outputs": [],
   "source": [
    "def plot_average_signature(sublist):\n",
    "    indices=[list(names).index(sn) for sn in sublist]\n",
    "    sig,weights=comp_signature(pineforest,data,indices,full_output=True)\n",
    "    avg_sig=np.sum(sig*weights,axis=0)/np.sum(weights,axis=0)\n",
    "    plot_data_n(avg_sig[np.newaxis,:],0,ylabel='Signature',title=\"\")"
   ]
  },
  {
   "cell_type": "code",
   "execution_count": null,
   "id": "540bc81f",
   "metadata": {},
   "outputs": [],
   "source": [
    "plot_average_signature(slsn)"
   ]
  },
  {
   "cell_type": "code",
   "execution_count": null,
   "id": "f1e7663e",
   "metadata": {},
   "outputs": [],
   "source": [
    "plot_average_signature(pecIa)"
   ]
  },
  {
   "cell_type": "code",
   "execution_count": null,
   "id": "3d8cf656",
   "metadata": {},
   "outputs": [],
   "source": [
    "plot_average_signature(unusualII)"
   ]
  },
  {
   "cell_type": "code",
   "execution_count": null,
   "id": "c4c0bb31",
   "metadata": {},
   "outputs": [],
   "source": [
    "plot_average_signature(agn)"
   ]
  },
  {
   "cell_type": "code",
   "execution_count": null,
   "id": "def5e65a",
   "metadata": {},
   "outputs": [],
   "source": [
    "plot_average_signature(microlens)"
   ]
  },
  {
   "cell_type": "code",
   "execution_count": null,
   "id": "ca3acc2f",
   "metadata": {},
   "outputs": [],
   "source": [
    "plot_average_signature(stars)"
   ]
  },
  {
   "cell_type": "code",
   "execution_count": null,
   "id": "7e582210",
   "metadata": {},
   "outputs": [],
   "source": [
    "plot_average_signature(qso)"
   ]
  },
  {
   "cell_type": "markdown",
   "id": "2697c424",
   "metadata": {},
   "source": [
    "## Plot the average for the full sample"
   ]
  },
  {
   "cell_type": "code",
   "execution_count": null,
   "id": "2b4fe0a4",
   "metadata": {},
   "outputs": [],
   "source": [
    "## And last : plot the full average for everyone\n",
    "plot_average_signature(names)"
   ]
  },
  {
   "cell_type": "code",
   "execution_count": null,
   "id": "c2dc01c2",
   "metadata": {},
   "outputs": [],
   "source": []
  }
 ],
 "metadata": {
  "kernelspec": {
   "display_name": "Python 3 (ipykernel)",
   "language": "python",
   "name": "python3"
  },
  "language_info": {
   "codemirror_mode": {
    "name": "ipython",
    "version": 3
   },
   "file_extension": ".py",
   "mimetype": "text/x-python",
   "name": "python",
   "nbconvert_exporter": "python",
   "pygments_lexer": "ipython3",
   "version": "3.8.12"
  }
 },
 "nbformat": 4,
 "nbformat_minor": 5
}
